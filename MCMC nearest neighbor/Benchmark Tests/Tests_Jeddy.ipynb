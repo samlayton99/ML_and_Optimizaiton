{
 "cells": [
  {
   "cell_type": "code",
   "execution_count": 2,
   "id": "b0b46c4d",
   "metadata": {},
   "outputs": [],
   "source": [
    "import numpy as np\n",
    "import matplotlib.pyplot as plt\n",
    "import pandas as pd\n",
    "from sklearn.model_selection import GridSearchCV\n",
    "from sklearn.metrics import get_scorer_names\n",
    "from sklearn.metrics import accuracy_score"
   ]
  },
  {
   "cell_type": "markdown",
   "id": "9c6788c6",
   "metadata": {},
   "source": [
    "# Import Random Forest and XGBoost Classifiers"
   ]
  },
  {
   "cell_type": "code",
   "execution_count": 3,
   "id": "cc9f649d",
   "metadata": {},
   "outputs": [],
   "source": [
    "from sklearn.ensemble import RandomForestClassifier\n",
    "import xgboost as xgb"
   ]
  },
  {
   "cell_type": "markdown",
   "id": "1b478bb5",
   "metadata": {},
   "source": [
    "# Import Pytorch CNN"
   ]
  },
  {
   "cell_type": "code",
   "execution_count": 91,
   "id": "35eb06d0",
   "metadata": {},
   "outputs": [],
   "source": [
    "from torchvision import transforms\n",
    "from torchvision import datasets\n",
    "import torch\n",
    "from torch.utils.data import DataLoader\n",
    "from torch import nn\n",
    "import torch.optim as optim\n",
    "from tqdm import tqdm\n",
    "from torch.utils.data import Dataset, random_split\n",
    "from torchvision.transforms import ToTensor\n"
   ]
  },
  {
   "cell_type": "markdown",
   "id": "040ab1c5",
   "metadata": {},
   "source": [
    "# Select Datasets"
   ]
  },
  {
   "cell_type": "code",
   "execution_count": 5,
   "id": "9a841717",
   "metadata": {},
   "outputs": [],
   "source": [
    "from sklearn.datasets import load_digits\n",
    "digits_X, digits_y = load_digits(return_X_y=True)\n",
    "\n",
    "#downloaded from Kaggle\n",
    "fashion_train = pd.read_csv('fashion-mnist_train.csv', index_col = 0)\n",
    "fashion_test = pd.read_csv('fashion-mnist_test.csv', index_col = 0)"
   ]
  },
  {
   "cell_type": "markdown",
   "id": "51e90f5a",
   "metadata": {},
   "source": [
    "# Train a RandomForestClassifier"
   ]
  },
  {
   "cell_type": "markdown",
   "id": "d4852464",
   "metadata": {},
   "source": [
    "### RandomForest on MNIST dataset"
   ]
  },
  {
   "cell_type": "code",
   "execution_count": 7,
   "id": "1a384130",
   "metadata": {},
   "outputs": [
    {
     "data": {
      "text/plain": [
       "{'max_depth': 10, 'max_features': 5, 'n_estimators': 150}"
      ]
     },
     "execution_count": 7,
     "metadata": {},
     "output_type": "execute_result"
    }
   ],
   "source": [
    "from sklearn.model_selection import train_test_split\n",
    "X_train, X_test, y_train, y_test = train_test_split(digits_X, digits_y, \n",
    "                                                    test_size=0.3, random_state=42)\n",
    "\n",
    "rf = RandomForestClassifier()\n",
    "param_grid = {'n_estimators': [50,100,150,200],'max_depth' : [1,4,5,10], \"max_features\": [2,5,10]}\n",
    "rf_gs = GridSearchCV(rf, param_grid, scoring = 'accuracy', n_jobs = -1)\n",
    "rf_gs.fit(X_train, y_train)\n",
    "params = rf_gs.best_params_\n",
    "\n",
    "params"
   ]
  },
  {
   "cell_type": "code",
   "execution_count": 8,
   "id": "95c23eed",
   "metadata": {},
   "outputs": [
    {
     "data": {
      "text/html": [
       "<style>#sk-container-id-1 {color: black;background-color: white;}#sk-container-id-1 pre{padding: 0;}#sk-container-id-1 div.sk-toggleable {background-color: white;}#sk-container-id-1 label.sk-toggleable__label {cursor: pointer;display: block;width: 100%;margin-bottom: 0;padding: 0.3em;box-sizing: border-box;text-align: center;}#sk-container-id-1 label.sk-toggleable__label-arrow:before {content: \"▸\";float: left;margin-right: 0.25em;color: #696969;}#sk-container-id-1 label.sk-toggleable__label-arrow:hover:before {color: black;}#sk-container-id-1 div.sk-estimator:hover label.sk-toggleable__label-arrow:before {color: black;}#sk-container-id-1 div.sk-toggleable__content {max-height: 0;max-width: 0;overflow: hidden;text-align: left;background-color: #f0f8ff;}#sk-container-id-1 div.sk-toggleable__content pre {margin: 0.2em;color: black;border-radius: 0.25em;background-color: #f0f8ff;}#sk-container-id-1 input.sk-toggleable__control:checked~div.sk-toggleable__content {max-height: 200px;max-width: 100%;overflow: auto;}#sk-container-id-1 input.sk-toggleable__control:checked~label.sk-toggleable__label-arrow:before {content: \"▾\";}#sk-container-id-1 div.sk-estimator input.sk-toggleable__control:checked~label.sk-toggleable__label {background-color: #d4ebff;}#sk-container-id-1 div.sk-label input.sk-toggleable__control:checked~label.sk-toggleable__label {background-color: #d4ebff;}#sk-container-id-1 input.sk-hidden--visually {border: 0;clip: rect(1px 1px 1px 1px);clip: rect(1px, 1px, 1px, 1px);height: 1px;margin: -1px;overflow: hidden;padding: 0;position: absolute;width: 1px;}#sk-container-id-1 div.sk-estimator {font-family: monospace;background-color: #f0f8ff;border: 1px dotted black;border-radius: 0.25em;box-sizing: border-box;margin-bottom: 0.5em;}#sk-container-id-1 div.sk-estimator:hover {background-color: #d4ebff;}#sk-container-id-1 div.sk-parallel-item::after {content: \"\";width: 100%;border-bottom: 1px solid gray;flex-grow: 1;}#sk-container-id-1 div.sk-label:hover label.sk-toggleable__label {background-color: #d4ebff;}#sk-container-id-1 div.sk-serial::before {content: \"\";position: absolute;border-left: 1px solid gray;box-sizing: border-box;top: 0;bottom: 0;left: 50%;z-index: 0;}#sk-container-id-1 div.sk-serial {display: flex;flex-direction: column;align-items: center;background-color: white;padding-right: 0.2em;padding-left: 0.2em;position: relative;}#sk-container-id-1 div.sk-item {position: relative;z-index: 1;}#sk-container-id-1 div.sk-parallel {display: flex;align-items: stretch;justify-content: center;background-color: white;position: relative;}#sk-container-id-1 div.sk-item::before, #sk-container-id-1 div.sk-parallel-item::before {content: \"\";position: absolute;border-left: 1px solid gray;box-sizing: border-box;top: 0;bottom: 0;left: 50%;z-index: -1;}#sk-container-id-1 div.sk-parallel-item {display: flex;flex-direction: column;z-index: 1;position: relative;background-color: white;}#sk-container-id-1 div.sk-parallel-item:first-child::after {align-self: flex-end;width: 50%;}#sk-container-id-1 div.sk-parallel-item:last-child::after {align-self: flex-start;width: 50%;}#sk-container-id-1 div.sk-parallel-item:only-child::after {width: 0;}#sk-container-id-1 div.sk-dashed-wrapped {border: 1px dashed gray;margin: 0 0.4em 0.5em 0.4em;box-sizing: border-box;padding-bottom: 0.4em;background-color: white;}#sk-container-id-1 div.sk-label label {font-family: monospace;font-weight: bold;display: inline-block;line-height: 1.2em;}#sk-container-id-1 div.sk-label-container {text-align: center;}#sk-container-id-1 div.sk-container {/* jupyter's `normalize.less` sets `[hidden] { display: none; }` but bootstrap.min.css set `[hidden] { display: none !important; }` so we also need the `!important` here to be able to override the default hidden behavior on the sphinx rendered scikit-learn.org. See: https://github.com/scikit-learn/scikit-learn/issues/21755 */display: inline-block !important;position: relative;}#sk-container-id-1 div.sk-text-repr-fallback {display: none;}</style><div id=\"sk-container-id-1\" class=\"sk-top-container\"><div class=\"sk-text-repr-fallback\"><pre>RandomForestClassifier(max_depth=10, max_features=10, n_estimators=150)</pre><b>In a Jupyter environment, please rerun this cell to show the HTML representation or trust the notebook. <br />On GitHub, the HTML representation is unable to render, please try loading this page with nbviewer.org.</b></div><div class=\"sk-container\" hidden><div class=\"sk-item\"><div class=\"sk-estimator sk-toggleable\"><input class=\"sk-toggleable__control sk-hidden--visually\" id=\"sk-estimator-id-1\" type=\"checkbox\" checked><label for=\"sk-estimator-id-1\" class=\"sk-toggleable__label sk-toggleable__label-arrow\">RandomForestClassifier</label><div class=\"sk-toggleable__content\"><pre>RandomForestClassifier(max_depth=10, max_features=10, n_estimators=150)</pre></div></div></div></div></div>"
      ],
      "text/plain": [
       "RandomForestClassifier(max_depth=10, max_features=10, n_estimators=150)"
      ]
     },
     "execution_count": 8,
     "metadata": {},
     "output_type": "execute_result"
    }
   ],
   "source": [
    "optimal_rf = RandomForestClassifier(n_estimators=150, max_depth=10, max_features=10)\n",
    "optimal_rf.fit(X_train, y_train)"
   ]
  },
  {
   "cell_type": "code",
   "execution_count": 9,
   "id": "a6f233ef",
   "metadata": {},
   "outputs": [
    {
     "name": "stdout",
     "output_type": "stream",
     "text": [
      "Accuracy of Random Forest Classifier for Digits Datset: 0.975925925925926\n"
     ]
    }
   ],
   "source": [
    "y_pred = optimal_rf.predict(X_test)\n",
    "accuracy = accuracy_score(y_test, y_pred)\n",
    "print(f'Accuracy of Random Forest Classifier for Digits Datset: {accuracy}')"
   ]
  },
  {
   "cell_type": "markdown",
   "id": "3312ca1e",
   "metadata": {},
   "source": [
    "### RandomForest on Fashion Dataset"
   ]
  },
  {
   "cell_type": "code",
   "execution_count": 8,
   "id": "1aecb3fc",
   "metadata": {},
   "outputs": [],
   "source": [
    "rf = RandomForestClassifier()\n",
    "train_X, train_y = fashion_train.values, fashion_train.index.values\n",
    "test_X, test_y = fashion_test.values, fashion_test.index.values"
   ]
  },
  {
   "cell_type": "code",
   "execution_count": 9,
   "id": "7df179fe",
   "metadata": {},
   "outputs": [
    {
     "data": {
      "text/plain": [
       "{'max_depth': 10, 'max_features': 10, 'n_estimators': 200}"
      ]
     },
     "execution_count": 9,
     "metadata": {},
     "output_type": "execute_result"
    }
   ],
   "source": [
    "param_grid = {'n_estimators': [50,100,150,200],'max_depth' : [1,4,5,10], \"max_features\": [2,5,10]}\n",
    "rf_gs = GridSearchCV(rf, param_grid, scoring = 'accuracy', n_jobs = -1)\n",
    "rf_gs.fit(train_X, train_y)\n",
    "params = rf_gs.best_params_\n",
    "\n",
    "params"
   ]
  },
  {
   "cell_type": "code",
   "execution_count": 10,
   "id": "efd71065",
   "metadata": {},
   "outputs": [
    {
     "data": {
      "text/html": [
       "<style>#sk-container-id-2 {color: black;background-color: white;}#sk-container-id-2 pre{padding: 0;}#sk-container-id-2 div.sk-toggleable {background-color: white;}#sk-container-id-2 label.sk-toggleable__label {cursor: pointer;display: block;width: 100%;margin-bottom: 0;padding: 0.3em;box-sizing: border-box;text-align: center;}#sk-container-id-2 label.sk-toggleable__label-arrow:before {content: \"▸\";float: left;margin-right: 0.25em;color: #696969;}#sk-container-id-2 label.sk-toggleable__label-arrow:hover:before {color: black;}#sk-container-id-2 div.sk-estimator:hover label.sk-toggleable__label-arrow:before {color: black;}#sk-container-id-2 div.sk-toggleable__content {max-height: 0;max-width: 0;overflow: hidden;text-align: left;background-color: #f0f8ff;}#sk-container-id-2 div.sk-toggleable__content pre {margin: 0.2em;color: black;border-radius: 0.25em;background-color: #f0f8ff;}#sk-container-id-2 input.sk-toggleable__control:checked~div.sk-toggleable__content {max-height: 200px;max-width: 100%;overflow: auto;}#sk-container-id-2 input.sk-toggleable__control:checked~label.sk-toggleable__label-arrow:before {content: \"▾\";}#sk-container-id-2 div.sk-estimator input.sk-toggleable__control:checked~label.sk-toggleable__label {background-color: #d4ebff;}#sk-container-id-2 div.sk-label input.sk-toggleable__control:checked~label.sk-toggleable__label {background-color: #d4ebff;}#sk-container-id-2 input.sk-hidden--visually {border: 0;clip: rect(1px 1px 1px 1px);clip: rect(1px, 1px, 1px, 1px);height: 1px;margin: -1px;overflow: hidden;padding: 0;position: absolute;width: 1px;}#sk-container-id-2 div.sk-estimator {font-family: monospace;background-color: #f0f8ff;border: 1px dotted black;border-radius: 0.25em;box-sizing: border-box;margin-bottom: 0.5em;}#sk-container-id-2 div.sk-estimator:hover {background-color: #d4ebff;}#sk-container-id-2 div.sk-parallel-item::after {content: \"\";width: 100%;border-bottom: 1px solid gray;flex-grow: 1;}#sk-container-id-2 div.sk-label:hover label.sk-toggleable__label {background-color: #d4ebff;}#sk-container-id-2 div.sk-serial::before {content: \"\";position: absolute;border-left: 1px solid gray;box-sizing: border-box;top: 0;bottom: 0;left: 50%;z-index: 0;}#sk-container-id-2 div.sk-serial {display: flex;flex-direction: column;align-items: center;background-color: white;padding-right: 0.2em;padding-left: 0.2em;position: relative;}#sk-container-id-2 div.sk-item {position: relative;z-index: 1;}#sk-container-id-2 div.sk-parallel {display: flex;align-items: stretch;justify-content: center;background-color: white;position: relative;}#sk-container-id-2 div.sk-item::before, #sk-container-id-2 div.sk-parallel-item::before {content: \"\";position: absolute;border-left: 1px solid gray;box-sizing: border-box;top: 0;bottom: 0;left: 50%;z-index: -1;}#sk-container-id-2 div.sk-parallel-item {display: flex;flex-direction: column;z-index: 1;position: relative;background-color: white;}#sk-container-id-2 div.sk-parallel-item:first-child::after {align-self: flex-end;width: 50%;}#sk-container-id-2 div.sk-parallel-item:last-child::after {align-self: flex-start;width: 50%;}#sk-container-id-2 div.sk-parallel-item:only-child::after {width: 0;}#sk-container-id-2 div.sk-dashed-wrapped {border: 1px dashed gray;margin: 0 0.4em 0.5em 0.4em;box-sizing: border-box;padding-bottom: 0.4em;background-color: white;}#sk-container-id-2 div.sk-label label {font-family: monospace;font-weight: bold;display: inline-block;line-height: 1.2em;}#sk-container-id-2 div.sk-label-container {text-align: center;}#sk-container-id-2 div.sk-container {/* jupyter's `normalize.less` sets `[hidden] { display: none; }` but bootstrap.min.css set `[hidden] { display: none !important; }` so we also need the `!important` here to be able to override the default hidden behavior on the sphinx rendered scikit-learn.org. See: https://github.com/scikit-learn/scikit-learn/issues/21755 */display: inline-block !important;position: relative;}#sk-container-id-2 div.sk-text-repr-fallback {display: none;}</style><div id=\"sk-container-id-2\" class=\"sk-top-container\"><div class=\"sk-text-repr-fallback\"><pre>RandomForestClassifier(max_depth=10, max_features=10, n_estimators=200)</pre><b>In a Jupyter environment, please rerun this cell to show the HTML representation or trust the notebook. <br />On GitHub, the HTML representation is unable to render, please try loading this page with nbviewer.org.</b></div><div class=\"sk-container\" hidden><div class=\"sk-item\"><div class=\"sk-estimator sk-toggleable\"><input class=\"sk-toggleable__control sk-hidden--visually\" id=\"sk-estimator-id-2\" type=\"checkbox\" checked><label for=\"sk-estimator-id-2\" class=\"sk-toggleable__label sk-toggleable__label-arrow\">RandomForestClassifier</label><div class=\"sk-toggleable__content\"><pre>RandomForestClassifier(max_depth=10, max_features=10, n_estimators=200)</pre></div></div></div></div></div>"
      ],
      "text/plain": [
       "RandomForestClassifier(max_depth=10, max_features=10, n_estimators=200)"
      ]
     },
     "execution_count": 10,
     "metadata": {},
     "output_type": "execute_result"
    }
   ],
   "source": [
    "optimal_rf = RandomForestClassifier(n_estimators = 200, max_depth = 10, max_features = 10)\n",
    "optimal_rf.fit(train_X, train_y)"
   ]
  },
  {
   "cell_type": "code",
   "execution_count": 11,
   "id": "73cc6ed9",
   "metadata": {},
   "outputs": [
    {
     "name": "stdout",
     "output_type": "stream",
     "text": [
      "Accuracy of Random Forest Classifier for Fashion Datset: 0.8414\n"
     ]
    }
   ],
   "source": [
    "pred_y = optimal_rf.predict(test_X)\n",
    "accuracy = accuracy_score(test_y, pred_y)\n",
    "print(f'Accuracy of Random Forest Classifier for Fashion Datset: {accuracy}')"
   ]
  },
  {
   "cell_type": "markdown",
   "id": "a82b879f",
   "metadata": {},
   "source": [
    "# XGBoost Classifier"
   ]
  },
  {
   "cell_type": "markdown",
   "id": "805d96fd",
   "metadata": {},
   "source": [
    "### XGBoost on MNIST Dataset"
   ]
  },
  {
   "cell_type": "code",
   "execution_count": 10,
   "id": "05f83db1",
   "metadata": {},
   "outputs": [
    {
     "data": {
      "text/plain": [
       "{'learning_rate': 0.2, 'max_depth': 5, 'n_estimators': 100, 'subsample': 0.5}"
      ]
     },
     "execution_count": 10,
     "metadata": {},
     "output_type": "execute_result"
    }
   ],
   "source": [
    "X_train, X_test, y_train, y_test = train_test_split(digits_X, digits_y, \n",
    "                                                    test_size = 0.3, random_state = 35)\n",
    "\n",
    "xgbc = xgb.XGBClassifier(use_label_encoder = False, eval_metric = 'mlogloss')\n",
    "\n",
    "# Define the parameter grid\n",
    "param_grid = {\n",
    "    'n_estimators': [50, 75, 100, 150, 200],\n",
    "    'max_depth': [3, 4, 5,10,15],\n",
    "    'learning_rate': [0.001, 0.01, 0.1, 0.2,0.3],\n",
    "    'subsample': [0.5, 0.7, 0.8, 0.9]\n",
    "}\n",
    "xgb_gs = GridSearchCV(xgbc, param_grid, scoring = 'accuracy', n_jobs = -1)\n",
    "xgb_gs.fit(X_train, y_train)\n",
    "params = xgb_gs.best_params_\n",
    "\n",
    "params"
   ]
  },
  {
   "cell_type": "code",
   "execution_count": 12,
   "id": "1a960a2c",
   "metadata": {},
   "outputs": [
    {
     "data": {
      "text/html": [
       "<style>#sk-container-id-2 {color: black;background-color: white;}#sk-container-id-2 pre{padding: 0;}#sk-container-id-2 div.sk-toggleable {background-color: white;}#sk-container-id-2 label.sk-toggleable__label {cursor: pointer;display: block;width: 100%;margin-bottom: 0;padding: 0.3em;box-sizing: border-box;text-align: center;}#sk-container-id-2 label.sk-toggleable__label-arrow:before {content: \"▸\";float: left;margin-right: 0.25em;color: #696969;}#sk-container-id-2 label.sk-toggleable__label-arrow:hover:before {color: black;}#sk-container-id-2 div.sk-estimator:hover label.sk-toggleable__label-arrow:before {color: black;}#sk-container-id-2 div.sk-toggleable__content {max-height: 0;max-width: 0;overflow: hidden;text-align: left;background-color: #f0f8ff;}#sk-container-id-2 div.sk-toggleable__content pre {margin: 0.2em;color: black;border-radius: 0.25em;background-color: #f0f8ff;}#sk-container-id-2 input.sk-toggleable__control:checked~div.sk-toggleable__content {max-height: 200px;max-width: 100%;overflow: auto;}#sk-container-id-2 input.sk-toggleable__control:checked~label.sk-toggleable__label-arrow:before {content: \"▾\";}#sk-container-id-2 div.sk-estimator input.sk-toggleable__control:checked~label.sk-toggleable__label {background-color: #d4ebff;}#sk-container-id-2 div.sk-label input.sk-toggleable__control:checked~label.sk-toggleable__label {background-color: #d4ebff;}#sk-container-id-2 input.sk-hidden--visually {border: 0;clip: rect(1px 1px 1px 1px);clip: rect(1px, 1px, 1px, 1px);height: 1px;margin: -1px;overflow: hidden;padding: 0;position: absolute;width: 1px;}#sk-container-id-2 div.sk-estimator {font-family: monospace;background-color: #f0f8ff;border: 1px dotted black;border-radius: 0.25em;box-sizing: border-box;margin-bottom: 0.5em;}#sk-container-id-2 div.sk-estimator:hover {background-color: #d4ebff;}#sk-container-id-2 div.sk-parallel-item::after {content: \"\";width: 100%;border-bottom: 1px solid gray;flex-grow: 1;}#sk-container-id-2 div.sk-label:hover label.sk-toggleable__label {background-color: #d4ebff;}#sk-container-id-2 div.sk-serial::before {content: \"\";position: absolute;border-left: 1px solid gray;box-sizing: border-box;top: 0;bottom: 0;left: 50%;z-index: 0;}#sk-container-id-2 div.sk-serial {display: flex;flex-direction: column;align-items: center;background-color: white;padding-right: 0.2em;padding-left: 0.2em;position: relative;}#sk-container-id-2 div.sk-item {position: relative;z-index: 1;}#sk-container-id-2 div.sk-parallel {display: flex;align-items: stretch;justify-content: center;background-color: white;position: relative;}#sk-container-id-2 div.sk-item::before, #sk-container-id-2 div.sk-parallel-item::before {content: \"\";position: absolute;border-left: 1px solid gray;box-sizing: border-box;top: 0;bottom: 0;left: 50%;z-index: -1;}#sk-container-id-2 div.sk-parallel-item {display: flex;flex-direction: column;z-index: 1;position: relative;background-color: white;}#sk-container-id-2 div.sk-parallel-item:first-child::after {align-self: flex-end;width: 50%;}#sk-container-id-2 div.sk-parallel-item:last-child::after {align-self: flex-start;width: 50%;}#sk-container-id-2 div.sk-parallel-item:only-child::after {width: 0;}#sk-container-id-2 div.sk-dashed-wrapped {border: 1px dashed gray;margin: 0 0.4em 0.5em 0.4em;box-sizing: border-box;padding-bottom: 0.4em;background-color: white;}#sk-container-id-2 div.sk-label label {font-family: monospace;font-weight: bold;display: inline-block;line-height: 1.2em;}#sk-container-id-2 div.sk-label-container {text-align: center;}#sk-container-id-2 div.sk-container {/* jupyter's `normalize.less` sets `[hidden] { display: none; }` but bootstrap.min.css set `[hidden] { display: none !important; }` so we also need the `!important` here to be able to override the default hidden behavior on the sphinx rendered scikit-learn.org. See: https://github.com/scikit-learn/scikit-learn/issues/21755 */display: inline-block !important;position: relative;}#sk-container-id-2 div.sk-text-repr-fallback {display: none;}</style><div id=\"sk-container-id-2\" class=\"sk-top-container\"><div class=\"sk-text-repr-fallback\"><pre>XGBClassifier(base_score=None, booster=None, callbacks=None,\n",
       "              colsample_bylevel=None, colsample_bynode=None,\n",
       "              colsample_bytree=None, device=None, early_stopping_rounds=None,\n",
       "              enable_categorical=False, eval_metric=None, feature_types=None,\n",
       "              gamma=None, grow_policy=None, importance_type=None,\n",
       "              interaction_constraints=None, learning_rate=0.2, max_bin=None,\n",
       "              max_cat_threshold=None, max_cat_to_onehot=None,\n",
       "              max_delta_step=None, max_depth=5, max_leaves=None,\n",
       "              min_child_weight=None, missing=nan, monotone_constraints=None,\n",
       "              multi_strategy=None, n_estimators=100, n_jobs=None,\n",
       "              num_parallel_tree=None, objective=&#x27;multi:softprob&#x27;, ...)</pre><b>In a Jupyter environment, please rerun this cell to show the HTML representation or trust the notebook. <br />On GitHub, the HTML representation is unable to render, please try loading this page with nbviewer.org.</b></div><div class=\"sk-container\" hidden><div class=\"sk-item\"><div class=\"sk-estimator sk-toggleable\"><input class=\"sk-toggleable__control sk-hidden--visually\" id=\"sk-estimator-id-2\" type=\"checkbox\" checked><label for=\"sk-estimator-id-2\" class=\"sk-toggleable__label sk-toggleable__label-arrow\">XGBClassifier</label><div class=\"sk-toggleable__content\"><pre>XGBClassifier(base_score=None, booster=None, callbacks=None,\n",
       "              colsample_bylevel=None, colsample_bynode=None,\n",
       "              colsample_bytree=None, device=None, early_stopping_rounds=None,\n",
       "              enable_categorical=False, eval_metric=None, feature_types=None,\n",
       "              gamma=None, grow_policy=None, importance_type=None,\n",
       "              interaction_constraints=None, learning_rate=0.2, max_bin=None,\n",
       "              max_cat_threshold=None, max_cat_to_onehot=None,\n",
       "              max_delta_step=None, max_depth=5, max_leaves=None,\n",
       "              min_child_weight=None, missing=nan, monotone_constraints=None,\n",
       "              multi_strategy=None, n_estimators=100, n_jobs=None,\n",
       "              num_parallel_tree=None, objective=&#x27;multi:softprob&#x27;, ...)</pre></div></div></div></div></div>"
      ],
      "text/plain": [
       "XGBClassifier(base_score=None, booster=None, callbacks=None,\n",
       "              colsample_bylevel=None, colsample_bynode=None,\n",
       "              colsample_bytree=None, device=None, early_stopping_rounds=None,\n",
       "              enable_categorical=False, eval_metric=None, feature_types=None,\n",
       "              gamma=None, grow_policy=None, importance_type=None,\n",
       "              interaction_constraints=None, learning_rate=0.2, max_bin=None,\n",
       "              max_cat_threshold=None, max_cat_to_onehot=None,\n",
       "              max_delta_step=None, max_depth=5, max_leaves=None,\n",
       "              min_child_weight=None, missing=nan, monotone_constraints=None,\n",
       "              multi_strategy=None, n_estimators=100, n_jobs=None,\n",
       "              num_parallel_tree=None, objective='multi:softprob', ...)"
      ]
     },
     "execution_count": 12,
     "metadata": {},
     "output_type": "execute_result"
    }
   ],
   "source": [
    "optimal_xgb = xgb.XGBClassifier(use_label_encoder = False, n_estimators = 100, max_depth = 5,\n",
    "                                learning_rate = 0.2, subsample = 0.5)\n",
    "optimal_xgb.fit(X_train, y_train)"
   ]
  },
  {
   "cell_type": "code",
   "execution_count": 15,
   "id": "e5204d8a",
   "metadata": {},
   "outputs": [
    {
     "name": "stdout",
     "output_type": "stream",
     "text": [
      "Accuracy of XGBoost Classifier for Digits Dataset: 0.9685185185185186\n"
     ]
    }
   ],
   "source": [
    "pred_y = optimal_xgb.predict(X_test)\n",
    "accuracy = accuracy_score(y_test, pred_y)\n",
    "print(f'Accuracy of XGBoost Classifier for Digits Dataset: {accuracy}')"
   ]
  },
  {
   "cell_type": "markdown",
   "id": "e15cdcd9",
   "metadata": {},
   "source": [
    "### XGBoost on Fashion Dataset"
   ]
  },
  {
   "cell_type": "code",
   "execution_count": 16,
   "id": "ff8aff31",
   "metadata": {},
   "outputs": [],
   "source": [
    "train_X, train_y = fashion_train.values, fashion_train.index.values\n",
    "test_X, test_y = fashion_test.values, fashion_test.index.values"
   ]
  },
  {
   "cell_type": "code",
   "execution_count": 17,
   "id": "1324357c",
   "metadata": {},
   "outputs": [
    {
     "data": {
      "text/html": [
       "<style>#sk-container-id-3 {color: black;background-color: white;}#sk-container-id-3 pre{padding: 0;}#sk-container-id-3 div.sk-toggleable {background-color: white;}#sk-container-id-3 label.sk-toggleable__label {cursor: pointer;display: block;width: 100%;margin-bottom: 0;padding: 0.3em;box-sizing: border-box;text-align: center;}#sk-container-id-3 label.sk-toggleable__label-arrow:before {content: \"▸\";float: left;margin-right: 0.25em;color: #696969;}#sk-container-id-3 label.sk-toggleable__label-arrow:hover:before {color: black;}#sk-container-id-3 div.sk-estimator:hover label.sk-toggleable__label-arrow:before {color: black;}#sk-container-id-3 div.sk-toggleable__content {max-height: 0;max-width: 0;overflow: hidden;text-align: left;background-color: #f0f8ff;}#sk-container-id-3 div.sk-toggleable__content pre {margin: 0.2em;color: black;border-radius: 0.25em;background-color: #f0f8ff;}#sk-container-id-3 input.sk-toggleable__control:checked~div.sk-toggleable__content {max-height: 200px;max-width: 100%;overflow: auto;}#sk-container-id-3 input.sk-toggleable__control:checked~label.sk-toggleable__label-arrow:before {content: \"▾\";}#sk-container-id-3 div.sk-estimator input.sk-toggleable__control:checked~label.sk-toggleable__label {background-color: #d4ebff;}#sk-container-id-3 div.sk-label input.sk-toggleable__control:checked~label.sk-toggleable__label {background-color: #d4ebff;}#sk-container-id-3 input.sk-hidden--visually {border: 0;clip: rect(1px 1px 1px 1px);clip: rect(1px, 1px, 1px, 1px);height: 1px;margin: -1px;overflow: hidden;padding: 0;position: absolute;width: 1px;}#sk-container-id-3 div.sk-estimator {font-family: monospace;background-color: #f0f8ff;border: 1px dotted black;border-radius: 0.25em;box-sizing: border-box;margin-bottom: 0.5em;}#sk-container-id-3 div.sk-estimator:hover {background-color: #d4ebff;}#sk-container-id-3 div.sk-parallel-item::after {content: \"\";width: 100%;border-bottom: 1px solid gray;flex-grow: 1;}#sk-container-id-3 div.sk-label:hover label.sk-toggleable__label {background-color: #d4ebff;}#sk-container-id-3 div.sk-serial::before {content: \"\";position: absolute;border-left: 1px solid gray;box-sizing: border-box;top: 0;bottom: 0;left: 50%;z-index: 0;}#sk-container-id-3 div.sk-serial {display: flex;flex-direction: column;align-items: center;background-color: white;padding-right: 0.2em;padding-left: 0.2em;position: relative;}#sk-container-id-3 div.sk-item {position: relative;z-index: 1;}#sk-container-id-3 div.sk-parallel {display: flex;align-items: stretch;justify-content: center;background-color: white;position: relative;}#sk-container-id-3 div.sk-item::before, #sk-container-id-3 div.sk-parallel-item::before {content: \"\";position: absolute;border-left: 1px solid gray;box-sizing: border-box;top: 0;bottom: 0;left: 50%;z-index: -1;}#sk-container-id-3 div.sk-parallel-item {display: flex;flex-direction: column;z-index: 1;position: relative;background-color: white;}#sk-container-id-3 div.sk-parallel-item:first-child::after {align-self: flex-end;width: 50%;}#sk-container-id-3 div.sk-parallel-item:last-child::after {align-self: flex-start;width: 50%;}#sk-container-id-3 div.sk-parallel-item:only-child::after {width: 0;}#sk-container-id-3 div.sk-dashed-wrapped {border: 1px dashed gray;margin: 0 0.4em 0.5em 0.4em;box-sizing: border-box;padding-bottom: 0.4em;background-color: white;}#sk-container-id-3 div.sk-label label {font-family: monospace;font-weight: bold;display: inline-block;line-height: 1.2em;}#sk-container-id-3 div.sk-label-container {text-align: center;}#sk-container-id-3 div.sk-container {/* jupyter's `normalize.less` sets `[hidden] { display: none; }` but bootstrap.min.css set `[hidden] { display: none !important; }` so we also need the `!important` here to be able to override the default hidden behavior on the sphinx rendered scikit-learn.org. See: https://github.com/scikit-learn/scikit-learn/issues/21755 */display: inline-block !important;position: relative;}#sk-container-id-3 div.sk-text-repr-fallback {display: none;}</style><div id=\"sk-container-id-3\" class=\"sk-top-container\"><div class=\"sk-text-repr-fallback\"><pre>XGBClassifier(base_score=None, booster=None, callbacks=None,\n",
       "              colsample_bylevel=None, colsample_bynode=None,\n",
       "              colsample_bytree=None, device=None, early_stopping_rounds=None,\n",
       "              enable_categorical=False, eval_metric=None, feature_types=None,\n",
       "              gamma=None, grow_policy=None, importance_type=None,\n",
       "              interaction_constraints=None, learning_rate=0.2, max_bin=None,\n",
       "              max_cat_threshold=None, max_cat_to_onehot=None,\n",
       "              max_delta_step=None, max_depth=5, max_leaves=None,\n",
       "              min_child_weight=None, missing=nan, monotone_constraints=None,\n",
       "              multi_strategy=None, n_estimators=100, n_jobs=None,\n",
       "              num_parallel_tree=None, objective=&#x27;multi:softprob&#x27;, ...)</pre><b>In a Jupyter environment, please rerun this cell to show the HTML representation or trust the notebook. <br />On GitHub, the HTML representation is unable to render, please try loading this page with nbviewer.org.</b></div><div class=\"sk-container\" hidden><div class=\"sk-item\"><div class=\"sk-estimator sk-toggleable\"><input class=\"sk-toggleable__control sk-hidden--visually\" id=\"sk-estimator-id-3\" type=\"checkbox\" checked><label for=\"sk-estimator-id-3\" class=\"sk-toggleable__label sk-toggleable__label-arrow\">XGBClassifier</label><div class=\"sk-toggleable__content\"><pre>XGBClassifier(base_score=None, booster=None, callbacks=None,\n",
       "              colsample_bylevel=None, colsample_bynode=None,\n",
       "              colsample_bytree=None, device=None, early_stopping_rounds=None,\n",
       "              enable_categorical=False, eval_metric=None, feature_types=None,\n",
       "              gamma=None, grow_policy=None, importance_type=None,\n",
       "              interaction_constraints=None, learning_rate=0.2, max_bin=None,\n",
       "              max_cat_threshold=None, max_cat_to_onehot=None,\n",
       "              max_delta_step=None, max_depth=5, max_leaves=None,\n",
       "              min_child_weight=None, missing=nan, monotone_constraints=None,\n",
       "              multi_strategy=None, n_estimators=100, n_jobs=None,\n",
       "              num_parallel_tree=None, objective=&#x27;multi:softprob&#x27;, ...)</pre></div></div></div></div></div>"
      ],
      "text/plain": [
       "XGBClassifier(base_score=None, booster=None, callbacks=None,\n",
       "              colsample_bylevel=None, colsample_bynode=None,\n",
       "              colsample_bytree=None, device=None, early_stopping_rounds=None,\n",
       "              enable_categorical=False, eval_metric=None, feature_types=None,\n",
       "              gamma=None, grow_policy=None, importance_type=None,\n",
       "              interaction_constraints=None, learning_rate=0.2, max_bin=None,\n",
       "              max_cat_threshold=None, max_cat_to_onehot=None,\n",
       "              max_delta_step=None, max_depth=5, max_leaves=None,\n",
       "              min_child_weight=None, missing=nan, monotone_constraints=None,\n",
       "              multi_strategy=None, n_estimators=100, n_jobs=None,\n",
       "              num_parallel_tree=None, objective='multi:softprob', ...)"
      ]
     },
     "execution_count": 17,
     "metadata": {},
     "output_type": "execute_result"
    }
   ],
   "source": [
    "XGBoost = xgb.XGBClassifier(use_label_encoder = False, n_estimators = 100, max_depth = 5,\n",
    "                                learning_rate = 0.2, subsample = 0.5)\n",
    "XGBoost.fit(train_X, train_y)"
   ]
  },
  {
   "cell_type": "code",
   "execution_count": 20,
   "id": "80af915f",
   "metadata": {},
   "outputs": [
    {
     "name": "stdout",
     "output_type": "stream",
     "text": [
      "Accuracy of XGBoost Classifier for Fashion Dataset: 0.8997\n"
     ]
    }
   ],
   "source": [
    "y_pred = XGBoost.predict(test_X)\n",
    "accuracy = accuracy_score(test_y, y_pred)\n",
    "print(f'Accuracy of XGBoost Classifier for Fashion Dataset: {accuracy}')"
   ]
  },
  {
   "cell_type": "markdown",
   "id": "bd19cd15",
   "metadata": {},
   "source": [
    "# Convolutional Neural Network"
   ]
  },
  {
   "cell_type": "code",
   "execution_count": 85,
   "id": "ca111582",
   "metadata": {},
   "outputs": [],
   "source": [
    "class CNN(nn.Module):\n",
    "    \n",
    "    def __init__(self):\n",
    "        \n",
    "        #initialize nn module\n",
    "        super().__init__()\n",
    "        \n",
    "        #define layers\n",
    "        self.flatten = nn.Flatten()\n",
    "        \n",
    "        self.convolution1 = nn.Conv2d(in_channels=8, out_channels = 16, kernel_size=1)\n",
    "        self.convolution2 = nn.Conv2d(in_channels =16, out_channels = 64, kernel_size=1)\n",
    "        self.convolution3 = nn.Conv2d(in_channels = 64, out_channels = 256, kernel_size = 1)\n",
    "        \n",
    "        self.relu = nn.ReLU()\n",
    "        self.batch = nn.BatchNorm1d(100)\n",
    "        self.max_layer =  nn.MaxPool2d(kernel_size=1)\n",
    "        \n",
    "        self.linear1 = nn.Linear(in_features=2048, out_features=100)\n",
    "        self.linear2 = nn.Linear(in_features=100, out_features=10)\n",
    "        \n",
    "    def forward(self, x):\n",
    "        \n",
    "        #first convolution and activation\n",
    "        x1 = self.relu(self.convolution1(x))\n",
    "        \n",
    "        #second convolution and activation\n",
    "        x2 = self.relu(self.convolution2(x1))\n",
    "        \n",
    "        #third convolution and activation\n",
    "        x3 = self.relu(self.convolution3(x2))\n",
    "        \n",
    "        #pooling layer\n",
    "        max_x = self.max_layer(x3)\n",
    "        \n",
    "        #linear and batch layers\n",
    "        x_flat = self.flatten(max_x)\n",
    "        \n",
    "        x4 = self.relu(self.batch(self.linear1(x_flat)))\n",
    "        output = self.relu(self.linear2(x4))\n",
    "        \n",
    "        return output\n",
    "        "
   ]
  },
  {
   "cell_type": "markdown",
   "id": "78f5dda1",
   "metadata": {},
   "source": [
    "### CNN on MNIST dataset"
   ]
  },
  {
   "cell_type": "code",
   "execution_count": 43,
   "id": "bd4b7350",
   "metadata": {},
   "outputs": [],
   "source": [
    "device = torch.device(\"cuda:0\" if torch.cuda.is_available() else \"cpu\")\n",
    "transform = transforms.Compose([transforms.ToTensor(),transforms.Normalize((0.0, 0.0, 0.0), (1.0, 1.0, 1.0))])"
   ]
  },
  {
   "cell_type": "code",
   "execution_count": 44,
   "id": "98eb8048",
   "metadata": {},
   "outputs": [],
   "source": [
    "X_train, X_test, y_train, y_test = train_test_split(digits_X, digits_y, \n",
    "                                                    test_size = 0.2, random_state = 35)\n",
    "\n",
    "X_train, X_val, y_train, y_val = train_test_split(X_train, y_train, test_size=0.25, random_state=35) # 0.25 x 0.8 = 0.2"
   ]
  },
  {
   "cell_type": "code",
   "execution_count": 46,
   "id": "58cea015",
   "metadata": {},
   "outputs": [],
   "source": [
    "class DigitDataset(Dataset):\n",
    "    def __init__(self, data, labels):\n",
    "        self.data = data\n",
    "        self.labels = labels\n",
    "        \n",
    "    def __len__(self):\n",
    "        return len(self.data)\n",
    "    \n",
    "    def __getitem__(self, idx):\n",
    "        return self.data[idx], self.labels[idx]"
   ]
  },
  {
   "cell_type": "code",
   "execution_count": 45,
   "id": "d9e84619",
   "metadata": {},
   "outputs": [],
   "source": [
    "# Example for 8x8 grayscale images\n",
    "X_train = X_train.reshape(-1, 8, 8, 1)\n",
    "X_val = X_val.reshape(-1, 8, 8, 1)\n",
    "X_test = X_test.reshape(-1, 8, 8, 1)\n",
    "\n",
    "# Normalize the data\n",
    "X_train = X_train / 255.0\n",
    "X_val = X_val / 255.0\n",
    "X_test = X_test / 255.0"
   ]
  },
  {
   "cell_type": "code",
   "execution_count": 47,
   "id": "ca1e5917",
   "metadata": {},
   "outputs": [],
   "source": [
    "# Create datasets\n",
    "train_dataset = DigitDataset(X_train, y_train)\n",
    "val_dataset = DigitDataset(X_val, y_val)\n",
    "test_dataset = DigitDataset(X_test, y_test)\n",
    "\n",
    "# Create DataLoaders\n",
    "train_loader = DataLoader(train_dataset, batch_size=32, shuffle=True)\n",
    "val_loader = DataLoader(val_dataset, batch_size=1, shuffle=False)\n",
    "test_loader = DataLoader(test_dataset, batch_size=1, shuffle=False)"
   ]
  },
  {
   "cell_type": "code",
   "execution_count": 75,
   "id": "decb18b9",
   "metadata": {},
   "outputs": [],
   "source": [
    "model = CNN().to(device)"
   ]
  },
  {
   "cell_type": "code",
   "execution_count": 80,
   "id": "cc2af924",
   "metadata": {},
   "outputs": [
    {
     "name": "stdout",
     "output_type": "stream",
     "text": [
      "tensor([2, 0, 7, 1, 0, 9, 1, 3, 1, 3, 2, 8, 5, 3, 8, 3, 0, 9, 2, 8, 4, 3, 3, 8,\n",
      "        8, 1, 5, 6, 8, 3, 2, 5])\n"
     ]
    },
    {
     "name": "stderr",
     "output_type": "stream",
     "text": [
      "epoch:24, loss:0.2529: : 850it [00:12, 68.75it/s]                               \n"
     ]
    }
   ],
   "source": [
    "dataiter = iter(train_loader)\n",
    "images, labels = next(dataiter)\n",
    "print(labels)\n",
    "#define objective function and optimizer\n",
    "objective = nn.CrossEntropyLoss()\n",
    "optimizer = optim.Adam(model.parameters(), lr=1e-4)\n",
    "\n",
    "#define a loop object to keep track of training\n",
    "loop = tqdm(total=len(train_loader), position=0)\n",
    "num_epochs = 25\n",
    "\n",
    "#initialize training mode for CNN\n",
    "model.train()\n",
    "total_loss = []\n",
    "total_acc = []\n",
    "\n",
    "#complete 10 epochs\n",
    "for epoch in range(num_epochs):\n",
    "    loss_list = []\n",
    "\n",
    "    #train on each x,y pair in the training data\n",
    "    for batch, (x, y_truth) in enumerate(train_loader):\n",
    "        # Move to the GPU\n",
    "        x, y_truth = x.to(device).float(), y_truth.to(device)\n",
    "        optimizer.zero_grad()\n",
    "        y_hat = model(x)\n",
    "        #compute the loss\n",
    "        loss = objective(y_hat, y_truth)\n",
    "        loop.set_description('epoch:{}, loss:{:.4f}'.format(epoch,loss.item()))\n",
    "        loss_list.append(loss.item())\n",
    "        loop.update()\n",
    "\n",
    "        #back propagate and update the weights\n",
    "        loss.backward()\n",
    "        optimizer.step()\n",
    "\n",
    "    #calculate average loss for that epoch\n",
    "    loss_mean = np.mean(loss_list)\n",
    "\n",
    "    #set to validation\n",
    "    model.eval()\n",
    "    validation_score = 0\n",
    "\n",
    "    #compute validation accuracy for each epoch\n",
    "    for x, y_truth in val_loader:\n",
    "        x, y_truth = x.to(device).float(), y_truth.to(device)\n",
    "        y_hat = model(x)\n",
    "        if y_truth == y_hat.argmax(1):\n",
    "            validation_score += 1\n",
    "    validation_accuracy = validation_score / len(val_loader)\n",
    "    total_loss.append(loss_mean)\n",
    "    total_acc.append(validation_accuracy)\n",
    "\n",
    "loop.close()"
   ]
  },
  {
   "cell_type": "code",
   "execution_count": 83,
   "id": "254578c0",
   "metadata": {},
   "outputs": [
    {
     "name": "stdout",
     "output_type": "stream",
     "text": [
      "Test Accuracy of CNN: 0.9083333333333333\n"
     ]
    }
   ],
   "source": [
    "model.eval() # switch to evaluation mode\n",
    "test_score = 0\n",
    "\n",
    "#compute the test accuracy\n",
    "for x, y_truth in test_loader:\n",
    "    x, y_truth = x.to(device).float(), y_truth.to(device)\n",
    "    y_hat = model(x)\n",
    "\n",
    "    # compare with greatest probability\n",
    "    if y_truth == y_hat.argmax(1):\n",
    "        test_score += 1\n",
    "test_accuracy = test_score / len(test_loader)\n",
    "print(f'Test Accuracy of CNN: {test_accuracy}')"
   ]
  },
  {
   "cell_type": "code",
   "execution_count": 84,
   "id": "c4ad0069",
   "metadata": {},
   "outputs": [
    {
     "data": {
      "image/png": "[encoded data removed]",
      "text/plain": [
       "<Figure size 1000x600 with 2 Axes>"
      ]
     },
     "metadata": {},
     "output_type": "display_data"
    }
   ],
   "source": [
    "#plot the mean training loss for each epoch\n",
    "plt.rcParams['figure.figsize'] = (10,6)\n",
    "plt.subplot(121)\n",
    "plt.plot(np.arange(num_epochs), total_loss)\n",
    "plt.title('Mean Training Losses per Epoch')\n",
    "plt.ylabel('Training Loss')\n",
    "plt.xlabel('Epochs')\n",
    "\n",
    "#plot the validation accuracy for each Epoch\n",
    "plt.subplot(122)\n",
    "plt.title('Validation Accuracy per Epoch')\n",
    "plt.ylabel('Validation Accuracy')\n",
    "plt.xlabel('Epochs')\n",
    "plt.plot(np.arange(num_epochs), total_acc)\n",
    "\n",
    "plt.tight_layout()\n",
    "plt.show()"
   ]
  },
  {
   "cell_type": "markdown",
   "id": "211fd066",
   "metadata": {},
   "source": [
    "### CNN on Fashion Dataset"
   ]
  },
  {
   "cell_type": "code",
   "execution_count": 96,
   "id": "554dfb03",
   "metadata": {},
   "outputs": [],
   "source": [
    "training_data = datasets.FashionMNIST(\n",
    "    root=\"data\",\n",
    "    train=True,\n",
    "    download=True,\n",
    "    transform=ToTensor()\n",
    ")\n",
    "\n",
    "test_data = datasets.FashionMNIST(\n",
    "    root=\"data\",\n",
    "    train=False,\n",
    "    download=True,\n",
    "    transform=ToTensor()\n",
    ")\n",
    "\n",
    "val_size = int(0.2*len(training_data))\n",
    "train_size = len(training_data) - val_size\n",
    "\n",
    "# Split the dataset into training and validation sets\n",
    "train_data, val_data = random_split(training_data, [train_size, val_size])\n",
    "\n",
    "# Create DataLoaders\n",
    "train_loader = DataLoader(train_dataset, batch_size=32, shuffle=True)\n",
    "val_loader = DataLoader(val_dataset, batch_size=32, shuffle=False)\n",
    "test_loader = DataLoader(test_dataset, batch_size=1, shuffle=False)"
   ]
  },
  {
   "cell_type": "code",
   "execution_count": 97,
   "id": "27931cb5",
   "metadata": {},
   "outputs": [],
   "source": [
    "model_fashion = CNN().to(device)"
   ]
  },
  {
   "cell_type": "code",
   "execution_count": null,
   "id": "fb4a465a",
   "metadata": {},
   "outputs": [
    {
     "name": "stderr",
     "output_type": "stream",
     "text": [
      "epoch:4, loss:2.3021: : 140it [00:01, 109.77it/s]                               "
     ]
    }
   ],
   "source": [
    "dataiter = iter(train_loader)\n",
    "images, labels = next(dataiter)\n",
    "\n",
    "#define objective function and optimizer\n",
    "objective = nn.CrossEntropyLoss()\n",
    "optimizer = optim.Adam(model.parameters(), lr=1e-4)\n",
    "\n",
    "#define a loop object to keep track of training\n",
    "loop = tqdm(total=len(train_loader), position=0)\n",
    "num_epochs = 25\n",
    "\n",
    "#initialize training mode for CNN\n",
    "model.train()\n",
    "total_loss = []\n",
    "total_acc = []\n",
    "\n",
    "#complete 10 epochs\n",
    "for epoch in range(num_epochs):\n",
    "    loss_list = []\n",
    "\n",
    "    #train on each x,y pair in the training data\n",
    "    for batch, (x, y_truth) in enumerate(train_loader):\n",
    "        # Move to the GPU\n",
    "        x, y_truth = x.to(device).float(), y_truth.to(device)\n",
    "        optimizer.zero_grad()\n",
    "        y_hat = model_fashion(x)\n",
    "        #compute the loss\n",
    "        loss = objective(y_hat, y_truth)\n",
    "        loop.set_description('epoch:{}, loss:{:.4f}'.format(epoch,loss.item()))\n",
    "        loss_list.append(loss.item())\n",
    "        loop.update()\n",
    "\n",
    "        #back propagate and update the weights\n",
    "        loss.backward()\n",
    "        optimizer.step()\n",
    "\n",
    "    #calculate average loss for that epoch\n",
    "    loss_mean = np.mean(loss_list)\n",
    "\n",
    "    #set to validation\n",
    "    model.eval()\n",
    "    validation_score = 0\n",
    "\n",
    "    #compute validation accuracy for each epoch\n",
    "    for x, y_truth in val_loader:\n",
    "        x, y_truth = x.to(device).float(), y_truth.to(device)\n",
    "        y_hat = model_fashion(x)\n",
    "        \n",
    "        # Get the predicted class\n",
    "        predicted_labels = y_hat.argmax(dim=1)\n",
    "\n",
    "        # Compare predictions with true labels\n",
    "        correct_predictions = (predicted_labels == y_truth).sum().item()\n",
    "\n",
    "        # Accumulate the number of correct predictions\n",
    "        validation_score += correct_predictions\n",
    "\n",
    "    validation_accuracy = validation_score / len(val_loader)\n",
    "    total_loss.append(loss_mean)\n",
    "    total_acc.append(validation_accuracy)\n",
    "\n",
    "loop.close()"
   ]
  },
  {
   "cell_type": "code",
   "execution_count": 103,
   "id": "8ef00e0a",
   "metadata": {},
   "outputs": [
    {
     "name": "stdout",
     "output_type": "stream",
     "text": [
      "Test Accuracy of CNN: 0.9083333333333333\n"
     ]
    }
   ],
   "source": [
    "model.eval() # switch to evaluation mode\n",
    "test_score = 0\n",
    "\n",
    "#compute the test accuracy\n",
    "for x, y_truth in test_loader:\n",
    "    x, y_truth = x.to(device).float(), y_truth.to(device)\n",
    "    y_hat = model(x)\n",
    "\n",
    "    # Get the predicted class\n",
    "    predicted_labels = y_hat.argmax(dim=1)\n",
    "\n",
    "    # Compare predictions with true labels\n",
    "    correct_predictions = (predicted_labels == y_truth).sum().item()\n",
    "    \n",
    "    test_score += correct_predictions\n",
    "    \n",
    "test_accuracy = test_score / len(test_loader)\n",
    "print(f'Test Accuracy of CNN: {test_accuracy}')"
   ]
  },
  {
   "cell_type": "code",
   "execution_count": 104,
   "id": "5569ca58",
   "metadata": {},
   "outputs": [
    {
     "data": {
      "image/png": "[encoded data removed]",
      "text/plain": [
       "<Figure size 1000x600 with 2 Axes>"
      ]
     },
     "metadata": {},
     "output_type": "display_data"
    }
   ],
   "source": [
    "#plot the mean training loss for each epoch\n",
    "plt.rcParams['figure.figsize'] = (10,6)\n",
    "plt.subplot(121)\n",
    "plt.plot(np.arange(num_epochs), total_loss)\n",
    "plt.title('Mean Training Losses per Epoch')\n",
    "plt.ylabel('Training Loss')\n",
    "plt.xlabel('Epochs')\n",
    "\n",
    "#plot the validation accuracy for each Epoch\n",
    "plt.subplot(122)\n",
    "plt.title('Validation Accuracy per Epoch')\n",
    "plt.ylabel('Validation Accuracy')\n",
    "plt.xlabel('Epochs')\n",
    "plt.plot(np.arange(num_epochs), total_acc)\n",
    "\n",
    "plt.tight_layout()\n",
    "plt.show()"
   ]
  },
  {
   "cell_type": "code",
   "execution_count": null,
   "id": "1476a55c",
   "metadata": {},
   "outputs": [],
   "source": []
  }
 ],
 "metadata": {
  "kernelspec": {
   "display_name": "Python 3 (ipykernel)",
   "language": "python",
   "name": "python3"
  },
  "language_info": {
   "codemirror_mode": {
    "name": "ipython",
    "version": 3
   },
   "file_extension": ".py",
   "mimetype": "text/x-python",
   "name": "python",
   "nbconvert_exporter": "python",
   "pygments_lexer": "ipython3",
   "version": "3.8.8"
  }
 },
 "nbformat": 4,
 "nbformat_minor": 5
}
