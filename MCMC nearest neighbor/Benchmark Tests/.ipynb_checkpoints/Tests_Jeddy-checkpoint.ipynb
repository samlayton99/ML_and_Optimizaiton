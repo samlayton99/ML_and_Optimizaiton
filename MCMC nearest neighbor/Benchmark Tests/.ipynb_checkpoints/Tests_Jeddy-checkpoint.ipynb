{
 "cells": [
  {
   "cell_type": "code",
   "execution_count": null,
   "id": "b0b46c4d",
   "metadata": {},
   "outputs": [],
   "source": [
    "import numpy as np\n",
    "import matplotlib.pyplot as plt\n",
    "import pandas as pd\n",
    "from sklearn.model_selection import GridSearchCV\n",
    "from sklearn.metrics import get_scorer_names\n",
    "from sklearn.metrics import accuracy_score"
   ]
  },
  {
   "cell_type": "markdown",
   "id": "9c6788c6",
   "metadata": {},
   "source": [
    "# Import Random Forest and XGBoost Classifiers"
   ]
  },
  {
   "cell_type": "code",
   "execution_count": null,
   "id": "cc9f649d",
   "metadata": {},
   "outputs": [],
   "source": [
    "from sklearn.ensemble import RandomForestClassifier\n",
    "import xgboost as xgb"
   ]
  },
  {
   "cell_type": "markdown",
   "id": "1b478bb5",
   "metadata": {},
   "source": [
    "# Import Pytorch CNN"
   ]
  },
  {
   "cell_type": "code",
   "execution_count": null,
   "id": "35eb06d0",
   "metadata": {},
   "outputs": [],
   "source": [
    "from torchvision import transforms\n",
    "from torchvision import datasets\n",
    "import torch\n",
    "from torch.utils.data import DataLoader\n",
    "from torch import nn\n",
    "import torch.optim as optim\n",
    "from tqdm import tqdm"
   ]
  },
  {
   "cell_type": "markdown",
   "id": "040ab1c5",
   "metadata": {},
   "source": [
    "# Select Datasets"
   ]
  },
  {
   "cell_type": "code",
   "execution_count": null,
   "id": "9a841717",
   "metadata": {},
   "outputs": [],
   "source": [
    "from sklearn.datasets import load_digits\n",
    "digits_X, digits_y = load_digits(return_X_y=True)\n",
    "\n",
    "#downloaded from Kaggle\n",
    "fashion_train = pd.read_csv('fashion-mnist_train.csv', index_col = 0)\n",
    "fashion_test = pd.read_csv('fashion-mnist_test.csv', index_col = 0)"
   ]
  },
  {
   "cell_type": "markdown",
   "id": "51e90f5a",
   "metadata": {},
   "source": [
    "# Train a RandomForestClassifier"
   ]
  },
  {
   "cell_type": "markdown",
   "id": "d4852464",
   "metadata": {},
   "source": [
    "### RandomForest on MNIST dataset"
   ]
  },
  {
   "cell_type": "code",
   "execution_count": null,
   "id": "1a384130",
   "metadata": {},
   "outputs": [],
   "source": [
    "from sklearn.model_selection import train_test_split\n",
    "X_train, X_test, y_train, y_test = train_test_split(digits_X, digits_y, \n",
    "                                                    test_size=0.3, random_state=42)\n",
    "\n",
    "rf = RandomForestClassifier()\n",
    "param_grid = {'n_estimators': [50,100,150,200],'max_depth' : [1,4,5,10], \"max_features\": [2,5,10]}\n",
    "rf_gs = GridSearchCV(rf, param_grid, scoring = 'accuracy', n_jobs = -1)\n",
    "rf_gs.fit(X_train, y_train)\n",
    "params = rf_gs.best_params_\n",
    "\n",
    "params"
   ]
  },
  {
   "cell_type": "code",
   "execution_count": null,
   "id": "95c23eed",
   "metadata": {},
   "outputs": [],
   "source": [
    "optimal_rf = RandomForestClassifier(n_estimators=150, max_depth=10, max_features=10)\n",
    "optimal_rf.fit(X_train, y_train)"
   ]
  },
  {
   "cell_type": "code",
   "execution_count": null,
   "id": "a6f233ef",
   "metadata": {},
   "outputs": [],
   "source": [
    "y_pred = optimal_rf.predict(X_test)\n",
    "accuracy = accuracy_score(y_test, y_pred)\n",
    "print(f'Accuracy of Random Forest Classifier for Digits Datset: {accuracy}')"
   ]
  },
  {
   "cell_type": "markdown",
   "id": "3312ca1e",
   "metadata": {},
   "source": [
    "### RandomForest on Fashion Dataset"
   ]
  },
  {
   "cell_type": "code",
   "execution_count": null,
   "id": "1aecb3fc",
   "metadata": {},
   "outputs": [],
   "source": [
    "rf = RandomForestClassifier()\n",
    "train_X, train_y = fashion_train.values, fashion_train.index.values\n",
    "test_X, test_y = fashion_test.values, fashion_test.index.values"
   ]
  },
  {
   "cell_type": "code",
   "execution_count": null,
   "id": "7df179fe",
   "metadata": {},
   "outputs": [],
   "source": [
    "param_grid = {'n_estimators': [50,100,150,200],'max_depth' : [1,4,5,10], \"max_features\": [2,5,10]}\n",
    "rf_gs = GridSearchCV(rf, param_grid, scoring = 'accuracy', n_jobs = -1)\n",
    "rf_gs.fit(train_X, train_y)\n",
    "params = rf_gs.best_params_\n",
    "\n",
    "params"
   ]
  },
  {
   "cell_type": "code",
   "execution_count": null,
   "id": "efd71065",
   "metadata": {},
   "outputs": [],
   "source": [
    "optimal_rf = RandomForestClassifier(n_estimators = 200, max_depth = 10, max_features = 10)\n",
    "optimal_rf.fit(train_X, train_y)"
   ]
  },
  {
   "cell_type": "code",
   "execution_count": null,
   "id": "73cc6ed9",
   "metadata": {},
   "outputs": [],
   "source": [
    "pred_y = optimal_rf.predict(test_X)\n",
    "accuracy = accuracy_score(test_y, pred_y)\n",
    "print(f'Accuracy of Random Forest Classifier for Fashion Datset: {accuracy}')"
   ]
  }
 ],
 "metadata": {
  "kernelspec": {
   "display_name": "Python 3 (ipykernel)",
   "language": "python",
   "name": "python3"
  },
  "language_info": {
   "codemirror_mode": {
    "name": "ipython",
    "version": 3
   },
   "file_extension": ".py",
   "mimetype": "text/x-python",
   "name": "python",
   "nbconvert_exporter": "python",
   "pygments_lexer": "ipython3",
   "version": "3.8.8"
  }
 },
 "nbformat": 4,
 "nbformat_minor": 5
}
